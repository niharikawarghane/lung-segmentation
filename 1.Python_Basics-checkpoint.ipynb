{
 "cells": [
  {
   "cell_type": "markdown",
   "metadata": {
    "slideshow": {
     "slide_type": "-"
    }
   },
   "source": [
    "# Python Basics"
   ]
  },
  {
   "cell_type": "code",
   "execution_count": 1,
   "metadata": {},
   "outputs": [
    {
     "name": "stdout",
     "output_type": "stream",
     "text": [
      "Hello, Python!\n",
      "hi\n"
     ]
    }
   ],
   "source": [
    "# Printing a string\n",
    "print(\"Hello, Python!\")\n",
    "print('hi')"
   ]
  },
  {
   "cell_type": "markdown",
   "metadata": {},
   "source": [
    "### Variables"
   ]
  },
  {
   "cell_type": "code",
   "execution_count": 2,
   "metadata": {},
   "outputs": [
    {
     "name": "stdout",
     "output_type": "stream",
     "text": [
      "10 3.146 Hello\n"
     ]
    }
   ],
   "source": [
    "# defining a variable : In Python there is no need to mention the data type\n",
    "\n",
    "var1 = 10      # An integer assignment\n",
    "var2 = 3.146   # A floating point\n",
    "var3 = \"Hello\" # A string\n",
    "\n",
    "print(var1,var2,var3)"
   ]
  },
  {
   "cell_type": "code",
   "execution_count": 3,
   "metadata": {},
   "outputs": [
    {
     "name": "stdout",
     "output_type": "stream",
     "text": [
      "Value of Pi is 3.14\n"
     ]
    }
   ],
   "source": [
    "pi = 3.14\n",
    "print (\"Value of Pi is\",pi)"
   ]
  },
  {
   "cell_type": "markdown",
   "metadata": {},
   "source": [
    "### Assignment"
   ]
  },
  {
   "cell_type": "code",
   "execution_count": 5,
   "metadata": {},
   "outputs": [
    {
     "name": "stdout",
     "output_type": "stream",
     "text": [
      "1   1   1\n",
      "1   2.5   john\n",
      "2.5   1   john\n"
     ]
    }
   ],
   "source": [
    "# Assigning same value to multiple variables\n",
    "\n",
    "var1 = var2 = var3 = 1\n",
    "print(var1,' ',var2,' ',var3)\n",
    "\n",
    "# Assigning Different values to variable in a single expression\n",
    "\n",
    "var1, var2, var3 = 1, 2.5, \"john\"\n",
    "print(var1,' ',var2,' ',var3)\n",
    "\n",
    "var1, var2 = var2, var1\n",
    "print(var1,' ',var2,' ',var3)\n",
    "\n",
    "# Note: commas can be used for multi-assignments"
   ]
  },
  {
   "cell_type": "markdown",
   "metadata": {
    "slideshow": {
     "slide_type": "slide"
    }
   },
   "source": [
    "### Slicing"
   ]
  },
  {
   "cell_type": "code",
   "execution_count": 4,
   "metadata": {},
   "outputs": [
    {
     "name": "stdout",
     "output_type": "stream",
     "text": [
      "Hello World!\n",
      "H\n",
      "llo\n",
      "llo World!\n",
      "He\n",
      "Hello World!Hello World!\n",
      "Hello World!TEST\n"
     ]
    }
   ],
   "source": [
    "# String operations\n",
    "\n",
    "str = 'Hello World!'  # A string\n",
    "\n",
    "print(str)          # Prints complete string\n",
    "print(str[0])       # Prints first character of the string\n",
    "print(str[2:5])     # Prints characters starting from 3rd to 5th element\n",
    "print(str[2:])      # Prints string starting from 3rd character\n",
    "print(str[:2])\n",
    "print(str * 2)      # Prints string two times\n",
    "print(str + \"TEST\") # Prints concatenated string"
   ]
  },
  {
   "cell_type": "markdown",
   "metadata": {},
   "source": [
    "### Data types"
   ]
  },
  {
   "cell_type": "code",
   "execution_count": 6,
   "metadata": {},
   "outputs": [
    {
     "name": "stdout",
     "output_type": "stream",
     "text": [
      "['abcd', 786, 2.23, 'john', 70.2, 65.34]\n",
      "abcd\n"
     ]
    },
    {
     "ename": "AttributeError",
     "evalue": "'tuple' object has no attribute 'append'",
     "output_type": "error",
     "traceback": [
      "\u001b[1;31m---------------------------------------------------------------------------\u001b[0m",
      "\u001b[1;31mAttributeError\u001b[0m                            Traceback (most recent call last)",
      "\u001b[1;32m<ipython-input-6-d0875471a125>\u001b[0m in \u001b[0;36m<module>\u001b[1;34m()\u001b[0m\n\u001b[0;32m      7\u001b[0m \u001b[0mprint\u001b[0m\u001b[1;33m(\u001b[0m\u001b[0mlist\u001b[0m\u001b[1;33m[\u001b[0m\u001b[1;36m0\u001b[0m\u001b[1;33m]\u001b[0m\u001b[1;33m)\u001b[0m         \u001b[1;31m# Prints first element of the list\u001b[0m\u001b[1;33m\u001b[0m\u001b[0m\n\u001b[0;32m      8\u001b[0m \u001b[1;33m\u001b[0m\u001b[0m\n\u001b[1;32m----> 9\u001b[1;33m \u001b[0mtuple\u001b[0m\u001b[1;33m.\u001b[0m\u001b[0mappend\u001b[0m\u001b[1;33m(\u001b[0m\u001b[1;36m65.34\u001b[0m\u001b[1;33m)\u001b[0m\u001b[1;33m\u001b[0m\u001b[0m\n\u001b[0m\u001b[0;32m     10\u001b[0m \u001b[0mprint\u001b[0m\u001b[1;33m(\u001b[0m\u001b[0mtuple\u001b[0m\u001b[1;33m[\u001b[0m\u001b[1;36m1\u001b[0m\u001b[1;33m:\u001b[0m\u001b[1;36m3\u001b[0m\u001b[1;33m]\u001b[0m\u001b[1;33m)\u001b[0m        \u001b[1;31m# Prints elements starting from 2nd till 3rd\u001b[0m\u001b[1;33m\u001b[0m\u001b[0m\n",
      "\u001b[1;31mAttributeError\u001b[0m: 'tuple' object has no attribute 'append'"
     ]
    }
   ],
   "source": [
    "# Python Lists\n",
    "list = [ 'abcd', 786 , 2.23, 'john', 70.2 ]  # A list\n",
    "tuple = ( 'abcd', 786 , 2.23, 'john', 70.2  ) # A tuple. Tuples are immutable, i.e. cannot be edit later\n",
    "\n",
    "list.append(65.34)\n",
    "print(list)            # Prints complete list\n",
    "print(list[0])         # Prints first element of the list\n",
    "\n",
    "tuple.append(65.34)\n",
    "print(tuple[1:3])        # Prints elements starting from 2nd till 3rd "
   ]
  },
  {
   "cell_type": "code",
   "execution_count": 7,
   "metadata": {},
   "outputs": [
    {
     "name": "stdout",
     "output_type": "stream",
     "text": [
      "{'jack': 4098, 'sape': 4139, 'guido': 4127}\n",
      "4098\n",
      "{'jack': 4098, 'guido': 4127, 'irv': 4127}\n",
      "dict_keys(['jack', 'guido', 'irv'])\n",
      "['guido', 'irv', 'jack']\n",
      "[4098, 4127, 4127]\n",
      "False\n",
      "False\n"
     ]
    }
   ],
   "source": [
    "# Lists are ordered sets of objects, whereas dictionaries are unordered sets. But the main difference is that items in dictionaries are accessed via keys and not via their position.\n",
    "tel = {'jack': 4098, 'sape': 4139}\n",
    "tel['guido'] = 4127\n",
    "print(tel)\n",
    "print(tel['jack'])\n",
    "del tel['sape']\n",
    "tel['irv'] = 4127\n",
    "print(tel)\n",
    "print(tel.keys())\n",
    "print(sorted(tel.keys()))\n",
    "print(sorted(tel.values()))\n",
    "print('guido' not in tel)\n",
    "print('jack' not in tel)\n"
   ]
  },
  {
   "cell_type": "markdown",
   "metadata": {},
   "source": [
    "###  Conditioning and looping"
   ]
  },
  {
   "cell_type": "code",
   "execution_count": 9,
   "metadata": {},
   "outputs": [
    {
     "name": "stdout",
     "output_type": "stream",
     "text": [
      "Square of  0  is : 0\n",
      "1 is an odd number\n",
      "Square of  2  is : 4\n",
      "3 is an odd number\n",
      "Square of  4  is : 16\n",
      "5 is an odd number\n",
      "Square of  6  is : 36\n",
      "7 is an odd number\n",
      "Square of  8  is : 64\n",
      "9 is an odd number\n"
     ]
    }
   ],
   "source": [
    "# Square of Even numbers\n",
    "\n",
    "for i in range(0,10):\n",
    "    \n",
    "    if i%2 == 0:\n",
    "        print(\"Square of \",i,\" is :\",i*i)\n",
    "        \n",
    "    else:\n",
    "        print(i,\"is an odd number\")    "
   ]
  },
  {
   "cell_type": "markdown",
   "metadata": {},
   "source": [
    "### Built-in Functions"
   ]
  },
  {
   "cell_type": "code",
   "execution_count": 12,
   "metadata": {},
   "outputs": [
    {
     "name": "stdout",
     "output_type": "stream",
     "text": [
      "Sum of array:  10\n",
      "Length of array:  4\n",
      "Absolute value:  1234\n",
      "Round value:  1.22\n",
      "Log value:  2.302585092994046\n",
      "Sin value:  0.9999996829318346\n"
     ]
    }
   ],
   "source": [
    "print(\"Sum of array: \",sum([1,2,3,4]))\n",
    "print(\"Length of array: \",len([1,2,3,4]))\n",
    "print(\"Absolute value: \",abs(-1234))\n",
    "print(\"Round value: \",round(1.2234, 2))\n",
    "\n",
    "import math as mt      # importing a package\n",
    "print(\"Log value: \",mt.log(10))\n",
    "print(\"Sin value: \",mt.sin(1.57))"
   ]
  },
  {
   "cell_type": "markdown",
   "metadata": {},
   "source": [
    "### Functions"
   ]
  },
  {
   "cell_type": "code",
   "execution_count": 13,
   "metadata": {},
   "outputs": [
    {
     "name": "stdout",
     "output_type": "stream",
     "text": [
      "Area, perimeter of rectangle: 200 60\n"
     ]
    }
   ],
   "source": [
    "def area(length,width):\n",
    "    return length*width, 2*(length+width)\n",
    "are, per = area(10,20)\n",
    "print(\"Area, perimeter of rectangle:\",are, per)"
   ]
  },
  {
   "cell_type": "markdown",
   "metadata": {
    "collapsed": true
   },
   "source": [
    "### Broadcasting\n",
    "* Subject to certain constraints, the smaller array is “broadcast” across the larger array so that they have compatible shapes\n",
    "\n",
    "### NumPy \n",
    "* Numpy is the fundamental package for numerical computing with Python. It contains among other things:\n",
    "* a powerful N-dimensional array object\n",
    "* sophisticated (broadcasting) functions\n",
    "* tools for integrating C/C++ and Fortran code\n",
    "* useful linear algebra, Fourier transform, and random number capabilities"
   ]
  },
  {
   "cell_type": "code",
   "execution_count": 14,
   "metadata": {},
   "outputs": [
    {
     "name": "stdout",
     "output_type": "stream",
     "text": [
      "Matrix A\n",
      " [0 1 2]\n",
      "Matrix B\n",
      " [5 5 5]\n",
      "Regular matrix addition A+B\n",
      " [5 6 7]\n",
      "Addition using Broadcasting A+5\n",
      " [4 5 6]\n"
     ]
    }
   ],
   "source": [
    "import numpy as np   # Importing libraries\n",
    "\n",
    "a = np.array([0, 1, 2])\n",
    "b = np.array([5, 5, 5])\n",
    "\n",
    "print(\"Matrix A\\n\", a)\n",
    "print(\"Matrix B\\n\", b)\n",
    "\n",
    "print(\"Regular matrix addition A+B\\n\", a + b)\n",
    "\n",
    "print(\"Addition using Broadcasting A+5\\n\", a + 4)"
   ]
  },
  {
   "cell_type": "markdown",
   "metadata": {},
   "source": [
    "### Broadcasting Rules\n",
    "When operating on two arrays, NumPy compares their shapes element-wise. It starts with the trailing dimensions, and works its way forward. Two dimensions are compatible when\n",
    "\n",
    "1. they are equal, or\n",
    "2.  one of them is 1\n"
   ]
  },
  {
   "cell_type": "code",
   "execution_count": 16,
   "metadata": {},
   "outputs": [
    {
     "name": "stdout",
     "output_type": "stream",
     "text": [
      "Matrix C\n",
      " [[0 1 2]\n",
      " [3 4 5]\n",
      " [6 7 8]]\n",
      "Matrix D\n",
      " [[1 2 3]\n",
      " [1 2 3]\n",
      " [1 2 3]]\n",
      "Matrix E\n",
      " [1 1 1]\n",
      "Regular matrix addition C+D\n",
      " [[ 1  3  5]\n",
      " [ 4  6  8]\n",
      " [ 7  9 11]]\n",
      "Addition using Broadcasting C+E\n",
      " [[1 2 3]\n",
      " [4 5 6]\n",
      " [7 8 9]]\n"
     ]
    }
   ],
   "source": [
    "# Lets go for a 2D matrix\n",
    "c = np.array([[0, 1, 2],[3, 4, 5],[6, 7, 8]])\n",
    "d = np.array([[1, 2, 3],[1, 2, 3],[1, 2, 3]])\n",
    "\n",
    "e = np.array([1, 1, 1])\n",
    "\n",
    "print(\"Matrix C\\n\", c)\n",
    "print(\"Matrix D\\n\", d)\n",
    "print(\"Matrix E\\n\", e)\n",
    "\n",
    "print(\"Regular matrix addition C+D\\n\", c + d)\n",
    "\n",
    "print(\"Addition using Broadcasting C+E\\n\", c + e)"
   ]
  },
  {
   "cell_type": "code",
   "execution_count": 17,
   "metadata": {},
   "outputs": [
    {
     "name": "stdout",
     "output_type": "stream",
     "text": [
      "Matrix M:\n",
      " [[0. 0. 0.]\n",
      " [0. 0. 0.]\n",
      " [0. 0. 0.]]\n"
     ]
    }
   ],
   "source": [
    "M = np.zeros((3, 3))\n",
    "print(\"Matrix M:\\n\",M)"
   ]
  },
  {
   "cell_type": "code",
   "execution_count": 43,
   "metadata": {
    "scrolled": true
   },
   "outputs": [
    {
     "name": "stdout",
     "output_type": "stream",
     "text": [
      "Dimension of M:  (3, 3)\n",
      "Dimension of a:  (3,)\n",
      "Addition using Broadcasting\n",
      "[[0. 1. 2.]\n",
      " [0. 1. 2.]\n",
      " [0. 1. 2.]]\n"
     ]
    }
   ],
   "source": [
    "print(\"Dimension of M: \",M.shape)\n",
    "print(\"Dimension of a: \",a.shape)\n",
    "print(\"Addition using Broadcasting\")\n",
    "print(M + a.T)\n",
    "# Broadcasting array with matrix"
   ]
  },
  {
   "cell_type": "markdown",
   "metadata": {},
   "source": [
    "## All in one program"
   ]
  },
  {
   "cell_type": "code",
   "execution_count": 24,
   "metadata": {},
   "outputs": [
    {
     "name": "stdout",
     "output_type": "stream",
     "text": [
      "Original List [10, 11, 15, 19, 21, 32] \n",
      "\n",
      "10 is not a prime number ( 2 times 5 is 10 )\n",
      "11 is a prime number\n",
      "15 is not a prime number ( 3 times 5 is 15 )\n",
      "19 is a prime number\n",
      "21 is not a prime number ( 3 times 7 is 21 )\n",
      "32 is not a prime number ( 2 times 16 is 32 )\n",
      "\n",
      "Non-prime List [10, 15, 21, 32] \n",
      "\n",
      "4.88747087067361e-07 0.0028855628020456998\n",
      "Time Taken to run the program: 0.0028850740549586323 seconds\n"
     ]
    }
   ],
   "source": [
    "# Importing libraries\n",
    "import timeit\n",
    "\n",
    "# Usage of builtin functions\n",
    "start = timeit.default_timer()   \n",
    "\n",
    "# Defining a list\n",
    "array_list = [10,11,15,19,21,32]      \n",
    "array_np_list = []\n",
    "\n",
    "# Print the list\n",
    "print(\"Original List\",array_list,\"\\n\")   \n",
    "\n",
    "# Defining a function\n",
    "def prime(num):      \n",
    "    if num > 1:     \n",
    "        \n",
    "        # check for factors\n",
    "        # Iterating a range of numbers\n",
    "        for i in range(2,num):    \n",
    "            if (num % i) == 0:\n",
    "                \n",
    "                # Appending data to list\n",
    "                array_np_list.append(num)           \n",
    "                print(num,\"is not a prime number (\",i,\"times\",num//i,\"is\",num,\")\")\n",
    "                \n",
    "                # Terminating a loop run\n",
    "                break         \n",
    "        else:\n",
    "            print(num,\"is a prime number\")\n",
    "            \n",
    "# Iterating a list\n",
    "for item in array_list:\n",
    "    \n",
    "    # Calling a function\n",
    "    prime(item)         \n",
    "\n",
    "print(\"\\nNon-prime List\",array_np_list,\"\\n\")\n",
    "\n",
    "end = timeit.default_timer()\n",
    "\n",
    "# Computing running time\n",
    "print(start, end)\n",
    "print(\"Time Taken to run the program:\",end - start, \"seconds\")       "
   ]
  },
  {
   "cell_type": "markdown",
   "metadata": {},
   "source": [
    "### Note:\n",
    "* Python is a procedural Language\n",
    "* Two versions of Python 2 vs 3\n",
    "* No braces. i.e. indentation\n",
    "* No need to explicitly mention data type"
   ]
  },
  {
   "cell_type": "markdown",
   "metadata": {},
   "source": [
    "## Unvectorized vs Vectorized Implementations"
   ]
  },
  {
   "cell_type": "code",
   "execution_count": 28,
   "metadata": {},
   "outputs": [
    {
     "name": "stdout",
     "output_type": "stream",
     "text": [
      "Matrix A:  [[6, 7, 8], [5, 4, 5], [1, 1, 2]] \n",
      "\n",
      "Matrix B:  [[1, 2, 3], [1, 2, 3], [1, 2, 3]] \n",
      "\n",
      "Unvectorized Matrix Multiplication\n",
      " [[21, 42, 63], [14, 28, 42], [4, 8, 12]] \n",
      "\n",
      "0.0010020732879638672\n"
     ]
    }
   ],
   "source": [
    "# Importing libraries\n",
    "import numpy as np\n",
    "import time\n",
    "# Defining matrices\n",
    "mat_a = [[6, 7, 8],[5, 4, 5],[1, 1, 2]]\n",
    "mat_b = [[1, 2, 3],[1, 2, 3],[1, 2, 3]]\n",
    "\n",
    "# Getting a row from matrix\n",
    "def get_row(matrix, row):\n",
    "    return matrix[row]\n",
    "\n",
    "# Getting a coloumn from matrix\n",
    "def get_column(matrix, column_number):\n",
    "    column = []\n",
    " \n",
    "    for i in range(len(matrix)):\n",
    "        column.append(matrix[i][column_number])\n",
    " \n",
    "    return column\n",
    "\n",
    "# Multiply a row with coloumn\n",
    "def unv_dot_product(vector_one, vector_two):\n",
    "    total = 0\n",
    " \n",
    "    if len(vector_one) != len(vector_two):\n",
    "        return total\n",
    " \n",
    "    for i in range(len(vector_one)):\n",
    "        product = vector_one[i] * vector_two[i]\n",
    "        total += product\n",
    " \n",
    "    return total\n",
    "\n",
    "# Multiply two matrixes\n",
    "def matrix_multiplication(matrix_one, matrix_two):\n",
    "    m_rows = len(matrix_one)\n",
    "    p_columns = len(matrix_two[0])\n",
    "    result = []\n",
    "    \n",
    "    for i in range(m_rows):\n",
    "        row_result = []\n",
    " \n",
    "        for j in range(p_columns):\n",
    "            row = get_row(matrix_one, i)\n",
    "            column = get_column(matrix_two, j)\n",
    "            product = unv_dot_product(row, column)\n",
    "            \n",
    "            row_result.append(product) \n",
    "        result.append(row_result)\n",
    "        \n",
    "    return result\n",
    "\n",
    "print(\"Matrix A: \", mat_a,\"\\n\")\n",
    "print(\"Matrix B: \", mat_b,\"\\n\")\n",
    "\n",
    "start = time.time()\n",
    "print(\"Unvectorized Matrix Multiplication\\n\",matrix_multiplication(mat_a,mat_b),\"\\n\")\n",
    "stop = time.time()\n",
    "\n",
    "print(stop-start)\n"
   ]
  },
  {
   "cell_type": "code",
   "execution_count": 29,
   "metadata": {},
   "outputs": [
    {
     "name": "stdout",
     "output_type": "stream",
     "text": [
      "Vectorized Matrix Multiplication\n",
      " [[21 42 63]\n",
      " [14 28 42]\n",
      " [ 4  8 12]] \n",
      "\n",
      "0.0010027885437011719\n"
     ]
    }
   ],
   "source": [
    "# Vectorized Implementation\n",
    "npm_a = np.array(mat_a)\n",
    "npm_b = np.array(mat_b)\n",
    "\n",
    "start = time.time()\n",
    "print(\"Vectorized Matrix Multiplication\\n\",npm_a.dot(npm_b),\"\\n\") \n",
    "stop = time.time()\n",
    "\n",
    "print(stop-start)\n",
    "# A.dot(B) is a numpy built-in function for dot product"
   ]
  },
  {
   "cell_type": "markdown",
   "metadata": {},
   "source": [
    "### Tip:\n",
    "* Vectorization reduces number of lines of code\n",
    "* Always prefer libraries and avoid coding from scratch"
   ]
  },
  {
   "cell_type": "markdown",
   "metadata": {},
   "source": [
    "## Essential Python Packages: Numpy, Pandas, Matplotlib"
   ]
  },
  {
   "cell_type": "code",
   "execution_count": 13,
   "metadata": {
    "collapsed": true
   },
   "outputs": [],
   "source": [
    "# Load library\n",
    "import numpy as np"
   ]
  },
  {
   "cell_type": "code",
   "execution_count": 14,
   "metadata": {},
   "outputs": [
    {
     "name": "stdout",
     "output_type": "stream",
     "text": [
      "Vector: [1 2 3 4 5 6]\n",
      "Element 2 in Vector is 2\n"
     ]
    }
   ],
   "source": [
    "# Create row vector\n",
    "vector = np.array([1, 2, 3, 4, 5, 6])\n",
    "print(\"Vector:\",vector)\n",
    "\n",
    "# Select second element\n",
    "print(\"Element 2 in Vector is\",vector[1])"
   ]
  },
  {
   "cell_type": "code",
   "execution_count": 20,
   "metadata": {},
   "outputs": [
    {
     "name": "stdout",
     "output_type": "stream",
     "text": [
      "Matrix\n",
      " [[1 2 3]\n",
      " [4 5 6]\n",
      " [7 8 9]]\n",
      "Second row of Matrix\n",
      " [4 5 6]\n",
      "Third coloumn of Matrix\n",
      " [3 6 9]\n"
     ]
    }
   ],
   "source": [
    "# Create matrix\n",
    "matrix = np.array([[1, 2, 3],\n",
    "                   [4, 5, 6],\n",
    "                   [7, 8, 9]])\n",
    "\n",
    "print(\"Matrix\\n\",matrix)\n",
    "\n",
    "# Select second row\n",
    "print(\"Second row of Matrix\\n\",matrix[1,:])\n",
    "print(\"Third coloumn of Matrix\\n\",matrix[:,2])"
   ]
  },
  {
   "cell_type": "code",
   "execution_count": 37,
   "metadata": {},
   "outputs": [
    {
     "name": "stdout",
     "output_type": "stream",
     "text": [
      "Tensor\n",
      " [[[[1 1]\n",
      "   [1 1]]\n",
      "\n",
      "  [[2 2]\n",
      "   [2 2]]]\n",
      "\n",
      "\n",
      " [[[3 3]\n",
      "   [3 3]]\n",
      "\n",
      "  [[4 4]\n",
      "   [4 4]]]]\n",
      "[[1]\n",
      " [1]\n",
      " [1]\n",
      " [1]\n",
      " [2]\n",
      " [2]\n",
      " [2]\n",
      " [2]\n",
      " [3]\n",
      " [3]\n",
      " [3]\n",
      " [3]\n",
      " [4]\n",
      " [4]\n",
      " [4]\n",
      " [4]]\n"
     ]
    }
   ],
   "source": [
    "# Create Tensor\n",
    "tensor = np.array([ [[[1, 1], [1, 1]], [[2, 2], [2, 2]]],\n",
    "                    [[[3, 3], [3, 3]], [[4, 4], [4, 4]]] ])\n",
    "\n",
    "print(\"Tensor\\n\",tensor)\n",
    "print(tensor.reshape(16,1))"
   ]
  },
  {
   "cell_type": "markdown",
   "metadata": {},
   "source": [
    "### Matrix properties"
   ]
  },
  {
   "cell_type": "code",
   "execution_count": 42,
   "metadata": {},
   "outputs": [
    {
     "name": "stdout",
     "output_type": "stream",
     "text": [
      "Matrix Shape: (3, 3)\n",
      "Number of elements: 9\n",
      "Number of dimentions: 2\n",
      "Average of matrix: 5.0\n",
      "Maximum number: 9\n",
      "Row with minimum numbers: [1 4 7]\n",
      "Diagnol of matrix: [1 5 9]\n",
      "Determinant of matrix: 0.0\n"
     ]
    }
   ],
   "source": [
    "# Create matrix\n",
    "matrix = np.array([[1, 2, 3],\n",
    "                   [4, 5, 6],\n",
    "                   [7, 8, 9]])\n",
    "\n",
    "print(\"Matrix Shape:\",matrix.shape)\n",
    "print(\"Number of elements:\",matrix.size)\n",
    "print(\"Number of dimentions:\",matrix.ndim)\n",
    "print(\"Average of matrix:\",np.mean(matrix))\n",
    "print(\"Maximum number:\",np.max(matrix))\n",
    "print(\"Row with minimum numbers:\",np.min(matrix, axis=1))\n",
    "print(\"Diagnol of matrix:\",matrix.diagonal())\n",
    "print(\"Determinant of matrix:\",np.linalg.det(matrix))"
   ]
  },
  {
   "cell_type": "markdown",
   "metadata": {},
   "source": [
    "### Matrix Operations"
   ]
  },
  {
   "cell_type": "code",
   "execution_count": 23,
   "metadata": {},
   "outputs": [
    {
     "name": "stdout",
     "output_type": "stream",
     "text": [
      "Flattened Matrix\n",
      " [1 2 3 4 5 6 7 8 9]\n",
      "Reshaping Matrix\n",
      " [[1]\n",
      " [2]\n",
      " [3]\n",
      " [4]\n",
      " [5]\n",
      " [6]\n",
      " [7]\n",
      " [8]\n",
      " [9]]\n",
      "Transposed Matrix\n",
      " [[1 4 7]\n",
      " [2 5 8]\n",
      " [3 6 9]]\n"
     ]
    }
   ],
   "source": [
    "print(\"Flattened Matrix\\n\",matrix.flatten())\n",
    "print(\"Reshaping Matrix\\n\",matrix.reshape(9,1))\n",
    "print(\"Transposed Matrix\\n\",matrix.T)"
   ]
  },
  {
   "cell_type": "code",
   "execution_count": 24,
   "metadata": {},
   "outputs": [
    {
     "name": "stdout",
     "output_type": "stream",
     "text": [
      "Matrix Addition\n",
      " [[ 2  4  2]\n",
      " [ 2  4  2]\n",
      " [ 2  4 10]]\n",
      "Scalar Multiplication\n",
      " [[ 1  3  1]\n",
      " [ 1  3  1]\n",
      " [ 1  3 16]]\n",
      "Matrix Addition\n",
      " [[ 3  9 10]\n",
      " [ 3  9 10]\n",
      " [ 4 12 18]]\n"
     ]
    }
   ],
   "source": [
    "# Create matrix\n",
    "matrix_a = np.array([[1, 1, 1],\n",
    "                     [1, 1, 1],\n",
    "                     [1, 1, 2]])\n",
    "\n",
    "# Create matrix\n",
    "matrix_b = np.array([[1, 3, 1],\n",
    "                     [1, 3, 1],\n",
    "                     [1, 3, 8]])\n",
    "\n",
    "print(\"Matrix Addition\\n\",np.add(matrix_a, matrix_b))\n",
    "print(\"Scalar Multiplication\\n\",np.multiply(matrix_a, matrix_b))\n",
    "print(\"Matrix Multiplication\\n\",np.dot(matrix_a, matrix_b))"
   ]
  },
  {
   "cell_type": "markdown",
   "metadata": {},
   "source": [
    "### Pandas"
   ]
  },
  {
   "cell_type": "code",
   "execution_count": 44,
   "metadata": {
    "collapsed": true
   },
   "outputs": [],
   "source": [
    "import pandas as pd"
   ]
  },
  {
   "cell_type": "code",
   "execution_count": 48,
   "metadata": {},
   "outputs": [
    {
     "name": "stdout",
     "output_type": "stream",
     "text": [
      "Data\n",
      "\n"
     ]
    },
    {
     "data": {
      "text/html": [
       "<div>\n",
       "<style>\n",
       "    .dataframe thead tr:only-child th {\n",
       "        text-align: right;\n",
       "    }\n",
       "\n",
       "    .dataframe thead th {\n",
       "        text-align: left;\n",
       "    }\n",
       "\n",
       "    .dataframe tbody tr th {\n",
       "        vertical-align: top;\n",
       "    }\n",
       "</style>\n",
       "<table border=\"1\" class=\"dataframe\">\n",
       "  <thead>\n",
       "    <tr style=\"text-align: right;\">\n",
       "      <th></th>\n",
       "      <th>Name</th>\n",
       "      <th>Status</th>\n",
       "      <th>College</th>\n",
       "    </tr>\n",
       "  </thead>\n",
       "  <tbody>\n",
       "    <tr>\n",
       "      <th>0</th>\n",
       "      <td>Mohit Agarwal</td>\n",
       "      <td>Joined</td>\n",
       "      <td>ABES</td>\n",
       "    </tr>\n",
       "    <tr>\n",
       "      <th>1</th>\n",
       "      <td>Yash Anwane</td>\n",
       "      <td>Joined</td>\n",
       "      <td>Temp</td>\n",
       "    </tr>\n",
       "    <tr>\n",
       "      <th>2</th>\n",
       "      <td>Adiya Karwar</td>\n",
       "      <td>Joined</td>\n",
       "      <td>Temp</td>\n",
       "    </tr>\n",
       "    <tr>\n",
       "      <th>3</th>\n",
       "      <td>Anushka Thakre</td>\n",
       "      <td>Joined</td>\n",
       "      <td>Temp</td>\n",
       "    </tr>\n",
       "    <tr>\n",
       "      <th>4</th>\n",
       "      <td>Prapti Darvekar</td>\n",
       "      <td>Joined</td>\n",
       "      <td>Temp</td>\n",
       "    </tr>\n",
       "  </tbody>\n",
       "</table>\n",
       "</div>"
      ],
      "text/plain": [
       "              Name  Status College\n",
       "0    Mohit Agarwal  Joined    ABES\n",
       "1      Yash Anwane  Joined    Temp\n",
       "2     Adiya Karwar  Joined    Temp\n",
       "3   Anushka Thakre  Joined    Temp\n",
       "4  Prapti Darvekar  Joined    Temp"
      ]
     },
     "execution_count": 48,
     "metadata": {},
     "output_type": "execute_result"
    }
   ],
   "source": [
    "df=pd.read_csv(\"meeting.csv\")\n",
    "print(\"Data\\n\")\n",
    "df"
   ]
  },
  {
   "cell_type": "code",
   "execution_count": 49,
   "metadata": {},
   "outputs": [
    {
     "name": "stdout",
     "output_type": "stream",
     "text": [
      "Top Elements\n",
      "\n"
     ]
    },
    {
     "data": {
      "text/html": [
       "<div>\n",
       "<style>\n",
       "    .dataframe thead tr:only-child th {\n",
       "        text-align: right;\n",
       "    }\n",
       "\n",
       "    .dataframe thead th {\n",
       "        text-align: left;\n",
       "    }\n",
       "\n",
       "    .dataframe tbody tr th {\n",
       "        vertical-align: top;\n",
       "    }\n",
       "</style>\n",
       "<table border=\"1\" class=\"dataframe\">\n",
       "  <thead>\n",
       "    <tr style=\"text-align: right;\">\n",
       "      <th></th>\n",
       "      <th>Name</th>\n",
       "      <th>Status</th>\n",
       "      <th>College</th>\n",
       "    </tr>\n",
       "  </thead>\n",
       "  <tbody>\n",
       "    <tr>\n",
       "      <th>0</th>\n",
       "      <td>Mohit Agarwal</td>\n",
       "      <td>Joined</td>\n",
       "      <td>ABES</td>\n",
       "    </tr>\n",
       "    <tr>\n",
       "      <th>1</th>\n",
       "      <td>Yash Anwane</td>\n",
       "      <td>Joined</td>\n",
       "      <td>Temp</td>\n",
       "    </tr>\n",
       "    <tr>\n",
       "      <th>2</th>\n",
       "      <td>Adiya Karwar</td>\n",
       "      <td>Joined</td>\n",
       "      <td>Temp</td>\n",
       "    </tr>\n",
       "  </tbody>\n",
       "</table>\n",
       "</div>"
      ],
      "text/plain": [
       "            Name  Status College\n",
       "0  Mohit Agarwal  Joined    ABES\n",
       "1    Yash Anwane  Joined    Temp\n",
       "2   Adiya Karwar  Joined    Temp"
      ]
     },
     "execution_count": 49,
     "metadata": {},
     "output_type": "execute_result"
    }
   ],
   "source": [
    "print(\"Top Elements\\n\")\n",
    "df.head(3)"
   ]
  },
  {
   "cell_type": "code",
   "execution_count": 50,
   "metadata": {},
   "outputs": [
    {
     "name": "stdout",
     "output_type": "stream",
     "text": [
      "Bottom Elements\n",
      "\n"
     ]
    },
    {
     "data": {
      "text/html": [
       "<div>\n",
       "<style>\n",
       "    .dataframe thead tr:only-child th {\n",
       "        text-align: right;\n",
       "    }\n",
       "\n",
       "    .dataframe thead th {\n",
       "        text-align: left;\n",
       "    }\n",
       "\n",
       "    .dataframe tbody tr th {\n",
       "        vertical-align: top;\n",
       "    }\n",
       "</style>\n",
       "<table border=\"1\" class=\"dataframe\">\n",
       "  <thead>\n",
       "    <tr style=\"text-align: right;\">\n",
       "      <th></th>\n",
       "      <th>Name</th>\n",
       "      <th>Status</th>\n",
       "      <th>College</th>\n",
       "    </tr>\n",
       "  </thead>\n",
       "  <tbody>\n",
       "    <tr>\n",
       "      <th>2</th>\n",
       "      <td>Adiya Karwar</td>\n",
       "      <td>Joined</td>\n",
       "      <td>Temp</td>\n",
       "    </tr>\n",
       "    <tr>\n",
       "      <th>3</th>\n",
       "      <td>Anushka Thakre</td>\n",
       "      <td>Joined</td>\n",
       "      <td>Temp</td>\n",
       "    </tr>\n",
       "    <tr>\n",
       "      <th>4</th>\n",
       "      <td>Prapti Darvekar</td>\n",
       "      <td>Joined</td>\n",
       "      <td>Temp</td>\n",
       "    </tr>\n",
       "  </tbody>\n",
       "</table>\n",
       "</div>"
      ],
      "text/plain": [
       "              Name  Status College\n",
       "2     Adiya Karwar  Joined    Temp\n",
       "3   Anushka Thakre  Joined    Temp\n",
       "4  Prapti Darvekar  Joined    Temp"
      ]
     },
     "execution_count": 50,
     "metadata": {},
     "output_type": "execute_result"
    }
   ],
   "source": [
    "print(\"Bottom Elements\\n\")\n",
    "df.tail(3)"
   ]
  },
  {
   "cell_type": "code",
   "execution_count": 51,
   "metadata": {},
   "outputs": [
    {
     "name": "stdout",
     "output_type": "stream",
     "text": [
      "Specific Coloumn\n",
      "\n"
     ]
    },
    {
     "data": {
      "text/plain": [
       "0    Mohit Agarwal\n",
       "1      Yash Anwane\n",
       "2     Adiya Karwar\n",
       "Name: Name, dtype: object"
      ]
     },
     "execution_count": 51,
     "metadata": {},
     "output_type": "execute_result"
    }
   ],
   "source": [
    "print(\"Specific Coloumn\\n\")\n",
    "df['Name'].head(3)"
   ]
  },
  {
   "cell_type": "code",
   "execution_count": 28,
   "metadata": {},
   "outputs": [
    {
     "name": "stdout",
     "output_type": "stream",
     "text": [
      "Replace negative numbers with NaN\n",
      "\n"
     ]
    },
    {
     "data": {
      "text/html": [
       "<div>\n",
       "<table border=\"1\" class=\"dataframe\">\n",
       "  <thead>\n",
       "    <tr style=\"text-align: right;\">\n",
       "      <th></th>\n",
       "      <th>GEOID</th>\n",
       "      <th>State</th>\n",
       "      <th>2005</th>\n",
       "      <th>2006</th>\n",
       "      <th>2007</th>\n",
       "      <th>2008</th>\n",
       "      <th>2009</th>\n",
       "      <th>2010</th>\n",
       "      <th>2011</th>\n",
       "      <th>2012</th>\n",
       "      <th>2013</th>\n",
       "    </tr>\n",
       "  </thead>\n",
       "  <tbody>\n",
       "    <tr>\n",
       "      <th>0</th>\n",
       "      <td>04000US01</td>\n",
       "      <td>Alabama</td>\n",
       "      <td>37150.0</td>\n",
       "      <td>37952.0</td>\n",
       "      <td>42212.0</td>\n",
       "      <td>44476.0</td>\n",
       "      <td>39980.0</td>\n",
       "      <td>40933.0</td>\n",
       "      <td>42590.0</td>\n",
       "      <td>43464.0</td>\n",
       "      <td>41381.0</td>\n",
       "    </tr>\n",
       "    <tr>\n",
       "      <th>1</th>\n",
       "      <td>04000US02</td>\n",
       "      <td>Alaska</td>\n",
       "      <td>55891.0</td>\n",
       "      <td>56418.0</td>\n",
       "      <td>62993.0</td>\n",
       "      <td>63989.0</td>\n",
       "      <td>61604.0</td>\n",
       "      <td>57848.0</td>\n",
       "      <td>57431.0</td>\n",
       "      <td>63648.0</td>\n",
       "      <td>61137.0</td>\n",
       "    </tr>\n",
       "    <tr>\n",
       "      <th>2</th>\n",
       "      <td>04000US04</td>\n",
       "      <td>Arizona</td>\n",
       "      <td>45245.0</td>\n",
       "      <td>46657.0</td>\n",
       "      <td>47215.0</td>\n",
       "      <td>46914.0</td>\n",
       "      <td>45739.0</td>\n",
       "      <td>46896.0</td>\n",
       "      <td>48621.0</td>\n",
       "      <td>47044.0</td>\n",
       "      <td>50602.0</td>\n",
       "    </tr>\n",
       "    <tr>\n",
       "      <th>3</th>\n",
       "      <td>04000US05</td>\n",
       "      <td>Arkansas</td>\n",
       "      <td>36658.0</td>\n",
       "      <td>37057.0</td>\n",
       "      <td>40795.0</td>\n",
       "      <td>39586.0</td>\n",
       "      <td>36538.0</td>\n",
       "      <td>38587.0</td>\n",
       "      <td>41302.0</td>\n",
       "      <td>39018.0</td>\n",
       "      <td>39919.0</td>\n",
       "    </tr>\n",
       "    <tr>\n",
       "      <th>4</th>\n",
       "      <td>04000US06</td>\n",
       "      <td>California</td>\n",
       "      <td>51755.0</td>\n",
       "      <td>55319.0</td>\n",
       "      <td>55734.0</td>\n",
       "      <td>57014.0</td>\n",
       "      <td>56134.0</td>\n",
       "      <td>54283.0</td>\n",
       "      <td>53367.0</td>\n",
       "      <td>57020.0</td>\n",
       "      <td>57528.0</td>\n",
       "    </tr>\n",
       "    <tr>\n",
       "      <th>5</th>\n",
       "      <td>04000US07</td>\n",
       "      <td>Chicago</td>\n",
       "      <td>NaN</td>\n",
       "      <td>NaN</td>\n",
       "      <td>NaN</td>\n",
       "      <td>NaN</td>\n",
       "      <td>NaN</td>\n",
       "      <td>NaN</td>\n",
       "      <td>NaN</td>\n",
       "      <td>NaN</td>\n",
       "      <td>NaN</td>\n",
       "    </tr>\n",
       "  </tbody>\n",
       "</table>\n",
       "</div>"
      ],
      "text/plain": [
       "       GEOID       State     2005     2006     2007     2008     2009  \\\n",
       "0  04000US01     Alabama  37150.0  37952.0  42212.0  44476.0  39980.0   \n",
       "1  04000US02      Alaska  55891.0  56418.0  62993.0  63989.0  61604.0   \n",
       "2  04000US04     Arizona  45245.0  46657.0  47215.0  46914.0  45739.0   \n",
       "3  04000US05    Arkansas  36658.0  37057.0  40795.0  39586.0  36538.0   \n",
       "4  04000US06  California  51755.0  55319.0  55734.0  57014.0  56134.0   \n",
       "5  04000US07     Chicago      NaN      NaN      NaN      NaN      NaN   \n",
       "\n",
       "      2010     2011     2012     2013  \n",
       "0  40933.0  42590.0  43464.0  41381.0  \n",
       "1  57848.0  57431.0  63648.0  61137.0  \n",
       "2  46896.0  48621.0  47044.0  50602.0  \n",
       "3  38587.0  41302.0  39018.0  39919.0  \n",
       "4  54283.0  53367.0  57020.0  57528.0  \n",
       "5      NaN      NaN      NaN      NaN  "
      ]
     },
     "execution_count": 28,
     "metadata": {},
     "output_type": "execute_result"
    }
   ],
   "source": [
    "print(\"Replace negative numbers with NaN\\n\")\n",
    "df.replace(-999,np.nan)"
   ]
  },
  {
   "cell_type": "markdown",
   "metadata": {},
   "source": [
    "## Matplotlib"
   ]
  },
  {
   "cell_type": "code",
   "execution_count": 52,
   "metadata": {},
   "outputs": [],
   "source": [
    "import matplotlib.pyplot as plt\n",
    "import matplotlib.mlab as mlab"
   ]
  },
  {
   "cell_type": "markdown",
   "metadata": {},
   "source": [
    "### Line Plot"
   ]
  },
  {
   "cell_type": "code",
   "execution_count": 55,
   "metadata": {
    "scrolled": true
   },
   "outputs": [
    {
     "data": {
      "image/png": "[encoded data removed]",
      "text/plain": [
       "<matplotlib.figure.Figure at 0x7d216b52e8>"
      ]
     },
     "metadata": {},
     "output_type": "display_data"
    }
   ],
   "source": [
    "# Line plot\n",
    "plt.plot([1,2,3,4],[4,6,8,11])\n",
    "plt.xlabel('X-axis')\n",
    "plt.ylabel('Y-axis')\n",
    "plt.show()"
   ]
  },
  {
   "cell_type": "code",
   "execution_count": 57,
   "metadata": {},
   "outputs": [
    {
     "name": "stdout",
     "output_type": "stream",
     "text": [
      "[0.   0.01 0.02 0.03 0.04 0.05 0.06 0.07 0.08 0.09 0.1  0.11 0.12 0.13\n",
      " 0.14 0.15 0.16 0.17 0.18 0.19 0.2  0.21 0.22 0.23 0.24 0.25 0.26 0.27\n",
      " 0.28 0.29 0.3  0.31 0.32 0.33 0.34 0.35 0.36 0.37 0.38 0.39 0.4  0.41\n",
      " 0.42 0.43 0.44 0.45 0.46 0.47 0.48 0.49 0.5  0.51 0.52 0.53 0.54 0.55\n",
      " 0.56 0.57 0.58 0.59 0.6  0.61 0.62 0.63 0.64 0.65 0.66 0.67 0.68 0.69\n",
      " 0.7  0.71 0.72 0.73 0.74 0.75 0.76 0.77 0.78 0.79 0.8  0.81 0.82 0.83\n",
      " 0.84 0.85 0.86 0.87 0.88 0.89 0.9  0.91 0.92 0.93 0.94 0.95 0.96 0.97\n",
      " 0.98 0.99 1.   1.01 1.02 1.03 1.04 1.05 1.06 1.07 1.08 1.09 1.1  1.11\n",
      " 1.12 1.13 1.14 1.15 1.16 1.17 1.18 1.19 1.2  1.21 1.22 1.23 1.24 1.25\n",
      " 1.26 1.27 1.28 1.29 1.3  1.31 1.32 1.33 1.34 1.35 1.36 1.37 1.38 1.39\n",
      " 1.4  1.41 1.42 1.43 1.44 1.45 1.46 1.47 1.48 1.49 1.5  1.51 1.52 1.53\n",
      " 1.54 1.55 1.56 1.57 1.58 1.59 1.6  1.61 1.62 1.63 1.64 1.65 1.66 1.67\n",
      " 1.68 1.69 1.7  1.71 1.72 1.73 1.74 1.75 1.76 1.77 1.78 1.79 1.8  1.81\n",
      " 1.82 1.83 1.84 1.85 1.86 1.87 1.88 1.89 1.9  1.91 1.92 1.93 1.94 1.95\n",
      " 1.96 1.97 1.98 1.99]\n"
     ]
    },
    {
     "data": {
      "image/png": "[encoded data removed]",
      "text/plain": [
       "<matplotlib.figure.Figure at 0x7d1d882908>"
      ]
     },
     "metadata": {},
     "output_type": "display_data"
    }
   ],
   "source": [
    "### Adding elements to line plots\n",
    "t = np.arange(0.0, 2.0, 0.01) # Generate equally space numbers between 0 and 2\n",
    "print(t)\n",
    "s = 1 + np.cos(2*np.pi*t)  # Apply sin function to the random numbers\n",
    "plt.plot(t, s)\n",
    "\n",
    "plt.xlabel('time (s)')\n",
    "plt.ylabel('voltage (mV)')\n",
    "plt.title('About as simple as it gets, folks')\n",
    "plt.grid(True)\n",
    "plt.savefig(\"test.png\") # Save a plot. Check the directory\n",
    "plt.show()"
   ]
  },
  {
   "cell_type": "markdown",
   "metadata": {},
   "source": [
    "### Bar Plot"
   ]
  },
  {
   "cell_type": "code",
   "execution_count": 60,
   "metadata": {},
   "outputs": [
    {
     "data": {
      "image/png": "[encoded data removed]",
      "text/plain": [
       "<matplotlib.figure.Figure at 0x7d21e4b898>"
      ]
     },
     "metadata": {},
     "output_type": "display_data"
    }
   ],
   "source": [
    "y = [3, 10, 7, 5, 3, 4.5, 6, 8.1]\n",
    "x = range(len(y))\n",
    "width = 1/1.9\n",
    "plt.bar(x, y, width, color=\"green\")\n",
    "plt.show()"
   ]
  },
  {
   "cell_type": "markdown",
   "metadata": {},
   "source": [
    "### Scatter Plot"
   ]
  },
  {
   "cell_type": "code",
   "execution_count": 65,
   "metadata": {
    "scrolled": true
   },
   "outputs": [
    {
     "data": {
      "image/png": "[encoded data removed]",
      "text/plain": [
       "<matplotlib.figure.Figure at 0x7d21997e10>"
      ]
     },
     "metadata": {},
     "output_type": "display_data"
    }
   ],
   "source": [
    "N = 50\n",
    "# Generate random numbers\n",
    "x = np.random.rand(N)\n",
    "y = np.random.rand(N)\n",
    "colors = np.random.rand(N)\n",
    "area = np.pi * (15 * np.random.rand(N))**2  # 0 to 15 point radii\n",
    "\n",
    "plt.scatter(x, y, s=area, c=colors, alpha=0.8)\n",
    "plt.show()"
   ]
  },
  {
   "cell_type": "markdown",
   "metadata": {},
   "source": [
    "### Histogram"
   ]
  },
  {
   "cell_type": "code",
   "execution_count": 35,
   "metadata": {
    "scrolled": true
   },
   "outputs": [
    {
     "data": {
      "image/png": "[encoded data removed]",
      "text/plain": [
       "<matplotlib.figure.Figure at 0x2095de8be80>"
      ]
     },
     "metadata": {},
     "output_type": "display_data"
    }
   ],
   "source": [
    "mu, sigma = 100, 15\n",
    "x = mu + sigma*np.random.randn(10000) # Generate random values with some distribution\n",
    "\n",
    "# the histogram of the data\n",
    "n, bins, patches = plt.hist(x, 50, normed=1, facecolor='green', alpha=0.75)\n",
    "\n",
    "# add a 'best fit' line\n",
    "y = mlab.normpdf( bins, mu, sigma)\n",
    "l = plt.plot(bins, y, 'r--', linewidth=1)\n",
    "\n",
    "plt.xlabel('Smarts')\n",
    "plt.ylabel('Probability')\n",
    "plt.title(r'$\\mathrm{Histogram\\ of\\ IQ:}\\ \\mu=100,\\ \\sigma=15$')\n",
    "plt.axis([40, 160, 0, 0.03])\n",
    "plt.grid(True)\n",
    "\n",
    "plt.show()"
   ]
  },
  {
   "cell_type": "markdown",
   "metadata": {},
   "source": [
    "### Pie Chart"
   ]
  },
  {
   "cell_type": "code",
   "execution_count": 66,
   "metadata": {},
   "outputs": [
    {
     "data": {
      "image/png": "[encoded data removed]",
      "text/plain": [
       "<matplotlib.figure.Figure at 0x7d21aa9630>"
      ]
     },
     "metadata": {},
     "output_type": "display_data"
    }
   ],
   "source": [
    "# Pie chart, where the slices will be ordered and plotted counter-clockwise:\n",
    "labels = 'Frogs', 'Hogs', 'Dogs', 'Logs'\n",
    "sizes = [25, 30, 25, 10]\n",
    "explode = (0, 0.1, 0, 0)  # only \"explode\" the 2nd slice (i.e. 'Hogs')\n",
    "\n",
    "fig1, ax1 = plt.subplots()\n",
    "ax1.pie(sizes, explode=explode, labels=labels, autopct='%1.1f%%',\n",
    "        shadow=True, startangle=90)\n",
    "ax1.axis('equal')  # Equal aspect ratio ensures that pie is drawn as a circle.\n",
    "\n",
    "plt.show()"
   ]
  },
  {
   "cell_type": "code",
   "execution_count": null,
   "metadata": {
    "collapsed": true
   },
   "outputs": [],
   "source": []
  }
 ],
 "metadata": {
  "kernelspec": {
   "display_name": "Python 3",
   "language": "python",
   "name": "python3"
  },
  "language_info": {
   "codemirror_mode": {
    "name": "ipython",
    "version": 3
   },
   "file_extension": ".py",
   "mimetype": "text/x-python",
   "name": "python",
   "nbconvert_exporter": "python",
   "pygments_lexer": "ipython3",
   "version": "3.8.5"
  }
 },
 "nbformat": 4,
 "nbformat_minor": 2
}
